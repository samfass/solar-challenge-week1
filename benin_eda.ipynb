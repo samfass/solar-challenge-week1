{
 "cells": [
  {
   "cell_type": "code",
   "execution_count": null,
   "id": "575a7422-85f4-4298-bc00-615495cd5a39",
   "metadata": {},
   "outputs": [],
   "source": [
    "# Import libraries\n",
    "import pandas as pd\n",
    "import numpy as np\n",
    "import matplotlib.pyplot as plt\n",
    "import seaborn as sns\n",
    "from scipy import stats\n",
    "\n",
    "# Set visual style\n",
    "plt.style.use('seaborn')\n",
    "%matplotlib inline"
   ]
  },
  {
   "cell_type": "code",
   "execution_count": null,
   "id": "1d254bf7-8d35-4989-abc7-102558e0986d",
   "metadata": {},
   "outputs": [],
   "source": [
    "# Load raw data\n",
    "df = pd.read_csv(\"../data/benin-malanville.csv\", parse_dates=[\"Timestamp\"])\n",
    "print(df.shape)\n",
    "df.head()"
   ]
  },
  {
   "cell_type": "code",
   "execution_count": null,
   "id": "34501da4-530d-485a-af4a-9473d0c2af30",
   "metadata": {},
   "outputs": [],
   "source": [
    "# Summary statistics\n",
    "df.describe()\n",
    "\n",
    "# Missing values report\n",
    "missing_report = df.isna().sum() / len(df) * 100\n",
    "print(\"Columns with >5% missing values:\")\n",
    "missing_report[missing_report > 5]"
   ]
  },
  {
   "cell_type": "code",
   "execution_count": null,
   "id": "3d2e05ac-b220-4701-92ab-f56b227d3056",
   "metadata": {},
   "outputs": [],
   "source": [
    "# Calculate Z-scores for key columns\n",
    "outlier_cols = [\"GHI\", \"DNI\", \"DHI\", \"ModA\", \"ModB\", \"WS\", \"WSgust\"]\n",
    "\n",
    "for col in outlier_cols:\n",
    "    df[f\"{col}_zscore\"] = np.abs(stats.zscore(df[col], nan_policy='omit'))\n",
    "    df[f\"{col}_outlier\"] = df[f\"{col}_zscore\"] > 3\n",
    "\n",
    "# Count outliers\n",
    "df[[f\"{col}_outlier\" for col in outlier_cols]].sum()"
   ]
  },
  {
   "cell_type": "code",
   "execution_count": null,
   "id": "5a8b47a0-4a14-4536-80ef-c08109fda4c7",
   "metadata": {},
   "outputs": [],
   "source": [
    "# Drop rows with missing GHI/DNI/DHI\n",
    "df_clean = df.dropna(subset=[\"GHI\", \"DNI\", \"DHI\"])\n",
    "\n",
    "# Impute outliers with median (e.g., ModA)\n",
    "df_clean.loc[df_clean[\"ModA_outlier\"], \"ModA\"] = df_clean[\"ModA\"].median()\n",
    "\n",
    "# Remove temporary columns\n",
    "df_clean = df_clean.drop(columns=[col for col in df_clean.columns if \"_zscore\" in col or \"_outlier\" in col])\n",
    "\n",
    "# Export cleaned data\n",
    "df_clean.to_csv(\"../data/benin_clean.csv\", index=False)\n",
    "print(\"Cleaned data saved to ../data/benin_clean.csv\")"
   ]
  },
  {
   "cell_type": "code",
   "execution_count": null,
   "id": "18f51e71-8cda-4ec0-87c7-d4fe763edac1",
   "metadata": {},
   "outputs": [],
   "source": [
    "# Plot solar irradiance over time\n",
    "df_clean.set_index(\"Timestamp\")[[\"GHI\", \"DNI\", \"DHI\"]].plot(figsize=(12, 6))\n",
    "plt.title(\"Solar Irradiance Trends\")\n",
    "plt.ylabel(\"W/m²\")\n",
    "plt.show()"
   ]
  },
  {
   "cell_type": "code",
   "execution_count": null,
   "id": "f5231c99-bda1-42a3-8f42-f92a6c9f1118",
   "metadata": {},
   "outputs": [],
   "source": [
    "# Heatmap of correlations\n",
    "plt.figure(figsize=(10, 8))\n",
    "sns.heatmap(df_clean[[\"GHI\", \"DNI\", \"DHI\", \"TModA\", \"TModB\", \"WS\", \"RH\"]].corr(), annot=True)\n",
    "plt.title(\"Correlation Matrix\")\n",
    "plt.show()"
   ]
  },
  {
   "cell_type": "code",
   "execution_count": null,
   "id": "51edc0ed-9c20-430c-b5fc-819afb356d23",
   "metadata": {},
   "outputs": [],
   "source": [
    "# Scatter plot: Wind speed vs. GHI\n",
    "sns.scatterplot(data=df_clean, x=\"WS\", y=\"GHI\", hue=\"RH\", palette=\"viridis\")\n",
    "plt.title(\"GHI vs. Wind Speed (Colored by Humidity)\")\n",
    "plt.show()"
   ]
  },
  {
   "cell_type": "code",
   "execution_count": null,
   "id": "658e28d2-5ddd-483f-abc7-c924db3d11cb",
   "metadata": {},
   "outputs": [],
   "source": [
    "# Bubble chart: GHI vs. Temp (size=RH, color=BP)\n",
    "plt.figure(figsize=(10, 6))\n",
    "plt.scatter(\n",
    "    x=df_clean[\"Tamb\"], \n",
    "    y=df_clean[\"GHI\"], \n",
    "    s=df_clean[\"RH\"]*2,  # Bubble size\n",
    "    c=df_clean[\"BP\"],    # Color\n",
    "    alpha=0.5,\n",
    "    cmap=\"magma\"\n",
    ")\n",
    "plt.colorbar(label=\"BP (hPa)\")\n",
    "plt.xlabel(\"Temperature (°C)\")\n",
    "plt.ylabel(\"GHI (W/m²)\")\n",
    "plt.title(\"GHI vs. Ambient Temperature\")\n",
    "plt.show()"
   ]
  },
  {
   "cell_type": "code",
   "execution_count": null,
   "id": "a724d290-ed04-48fb-8dbd-6dcb8bd43389",
   "metadata": {},
   "outputs": [],
   "source": []
  }
 ],
 "metadata": {
  "kernelspec": {
   "display_name": "Python 3 (ipykernel)",
   "language": "python",
   "name": "python3"
  },
  "language_info": {
   "codemirror_mode": {
    "name": "ipython",
    "version": 3
   },
   "file_extension": ".py",
   "mimetype": "text/x-python",
   "name": "python",
   "nbconvert_exporter": "python",
   "pygments_lexer": "ipython3",
   "version": "3.13.3"
  }
 },
 "nbformat": 4,
 "nbformat_minor": 5
}
