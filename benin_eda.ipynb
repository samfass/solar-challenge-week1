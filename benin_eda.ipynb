{
 "cells": [
  {
   "cell_type": "code",
   "execution_count": null,
   "id": "575a7422-85f4-4298-bc00-615495cd5a39",
   "metadata": {},
   "outputs": [],
   "source": [
    "import pandas as pd\n",
    "import matplotlib.pyplot as plt\n",
    "\n",
    "# Load data (replace with your dataset)\n",
    "df = pd.read_csv(\"data/benin-malanville.csv\")\n",
    "\n",
    "# Basic EDA\n",
    "print(df.head())\n",
    "print(df.describe())\n",
    "\n",
    "# Example plot\n",
    "df[\"solar_energy\"].plot(kind=\"hist\")\n",
    "plt.title(\"Solar Energy Distribution in Benin\")\n",
    "plt.show()"
   ]
  }
 ],
 "metadata": {
  "kernelspec": {
   "display_name": "Python 3 (ipykernel)",
   "language": "python",
   "name": "python3"
  },
  "language_info": {
   "codemirror_mode": {
    "name": "ipython",
    "version": 3
   },
   "file_extension": ".py",
   "mimetype": "text/x-python",
   "name": "python",
   "nbconvert_exporter": "python",
   "pygments_lexer": "ipython3",
   "version": "3.13.3"
  }
 },
 "nbformat": 4,
 "nbformat_minor": 5
}
